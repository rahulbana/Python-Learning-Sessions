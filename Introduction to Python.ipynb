{
 "cells": [
  {
   "attachments": {},
   "cell_type": "markdown",
   "metadata": {},
   "source": [
    "# Introduction to Python\n",
    "\n",
    "- Python is a general-purpose high-level programming language that is written in C. It is an interpreted, interactive, object-oriented language.\n",
    "- Guido van Rossum developed Python. \n",
    "- Python was conceptualized in the late 1980s. \n",
    "- First release 1991.\n",
    "- Guido van Rossum worked that time in a project at the CWI(Centrum Wiskunde & Informatica), called Amoeba, a distributed operating.\n",
    "- Python influence by ABC language.\n",
    "- Guido van Rossum was a big fan of Monty Python's Flying Circus (a TV show). So he named Python.\n",
    "\n",
    "\n"
   ]
  },
  {
   "attachments": {},
   "cell_type": "markdown",
   "metadata": {},
   "source": [
    "# Python Applications\n",
    "\n",
    "<img src = \"./python-applications-1.png\"/>\n",
    "\n",
    "\n",
    "- Desktop GUI Applications\n",
    "- Scientific and Numeric operations\n",
    "- Software Development\n",
    "- Education\n",
    "- Business Applications\n",
    "- Games and 3D Graphics\n",
    "- Network probgramming\n",
    "- Database Access\n",
    "- Image and Video processing\n",
    "- Data Visualization\n",
    "- Machine Learning\n",
    "- Natural Language Processing \n",
    "- Chatbots\n"
   ]
  },
  {
   "attachments": {},
   "cell_type": "markdown",
   "metadata": {},
   "source": [
    "# Python Features\n",
    "\n",
    "- Easy \n",
    "- Expressive \n",
    "- Free and Open Source \n",
    "- High Level \n",
    "- Portable \n",
    "- Object Oriented \n",
    "- Extensible \n",
    "- Embeddable \n",
    "- Interpreted \n",
    "- Dynamically Typed \n",
    "- Large Standard Library"
   ]
  },
  {
   "cell_type": "markdown",
   "metadata": {},
   "source": [
    "# Who is using Python\n",
    "\n",
    "<img src='./using-pyhton-1.png'/>"
   ]
  },
  {
   "attachments": {},
   "cell_type": "markdown",
   "metadata": {},
   "source": [
    "# How to install Python\n",
    "\n",
    "- Go to https://www.python.org/downloads/\n",
    "- select os and confi\n",
    "- download python\n",
    "\n",
    "- Python will insall default python packae manager **pip**\n",
    "- pip will help to install new packages\n",
    "- to insall or update packages type below command\n",
    "- **pip insall -U package_name**"
   ]
  },
  {
   "attachments": {},
   "cell_type": "markdown",
   "metadata": {},
   "source": [
    "# Python Interpreter\n",
    "\n",
    "Python is an interpreted language, similar in the way to how Java operates, with bytecode. However, unlike Java, you will normally work with *.py files directly, instead of compiled bytecode files (*.pyc). To fire up the Python interpreter, open up your terminal/console application, and type python or python3 (depending on your installation). You should see something that looks like this:\n",
    "\n",
    "<img src=\"./py-interpreter.png\"/>\n",
    "\n",
    "- This is known as the Python interpreter, and is a REPL (Read–Eval–Print Loop). This allows you to type Python code, import modules, and interact with code you’ve written without having to write files to disk, in an interactive manner\n"
   ]
  },
  {
   "attachments": {},
   "cell_type": "markdown",
   "metadata": {},
   "source": [
    "# Python Data types\n",
    "\n",
    "- Boolean (True/False)\n",
    "- NoneType (None)\n",
    "- Numbers (Int, Long, Float, Complex)\n",
    "- List\n",
    "- Tuple\n",
    "- Strings\n",
    "- Sets\n",
    "- Dictionary"
   ]
  },
  {
   "attachments": {},
   "cell_type": "markdown",
   "metadata": {},
   "source": [
    "# Python Operators\n",
    "\n",
    "- **Boolean operations** – or, and not\n",
    "- **Comparison** - <, <=, >, >=, ==, !=, is, not is\n",
    "- **Numeric types** - +, -, *, /, //, %, **,\n",
    "- **Bitwise operations on integer types** - |, ^, &, <<, >>, ~,\n"
   ]
  },
  {
   "attachments": {},
   "cell_type": "markdown",
   "metadata": {},
   "source": [
    "# Data and type introspection basics\n",
    "\n",
    "- In everyday life, introspection is the act of self-examination. Introspection refers to the examination of one's own thoughts, feelings, motivations, and actions. \n",
    "\n",
    "- In computer programming, introspection refers to the ability to examine something to determine what it is, what it knows, and  \n",
    "- what it is capable of doing. Introspection gives programmers a great deal of flexibility and control. \n",
    "\n",
    "- Introspection is the ability to determine type or properties of objects at runtime. Python programming language has a large support of introspection. Everything in Python is an object. Every object in Python may have attributes and methods. By using introspection, we can dynamically inspect Python objects.\n",
    "\n",
    "- dir, help, type, id, callable\n"
   ]
  },
  {
   "attachments": {},
   "cell_type": "markdown",
   "metadata": {},
   "source": [
    "# Syntax(Block & Indentation)\n",
    "\n",
    "- A block is a group of statements in a program or script. Usually it consists of at least one statement and of declarations for the block, depending on the programming or scripting language. \n",
    "\n",
    "- The first time, block structures had been formalized was in ALGOL, called a compound statement. \n",
    "\n",
    "\n",
    "<img src=\"./block-1.png\"/>"
   ]
  },
  {
   "attachments": {},
   "cell_type": "markdown",
   "metadata": {},
   "source": [
    "# Comments\n",
    "\n",
    "- **Single line** \n",
    "\n",
    "  just put # before anything you want to coment in a line\n",
    "  \n",
    "  \n",
    "- **Multiline comment**\n",
    "\n",
    "  '''\n",
    "     a multiline comment\n",
    "  '''"
   ]
  }
 ],
 "metadata": {
  "kernelspec": {
   "display_name": "Python 3",
   "language": "python",
   "name": "python3"
  },
  "language_info": {
   "codemirror_mode": {
    "name": "ipython",
    "version": 3
   },
   "file_extension": ".py",
   "mimetype": "text/x-python",
   "name": "python",
   "nbconvert_exporter": "python",
   "pygments_lexer": "ipython3",
   "version": "3.6.6"
  }
 },
 "nbformat": 4,
 "nbformat_minor": 2
}

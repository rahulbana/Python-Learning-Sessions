{
 "cells": [
  {
   "attachments": {},
   "cell_type": "markdown",
   "metadata": {},
   "source": [
    "# Shallow copy, deep copy\n",
    "\n",
    "\n",
    "- In Python, we use = operator to create a copy of an object. You may think that this creates a new object; it doesn't. It only creates a new variable that shares the reference of the original object.\n",
    "\n",
    "\n",
    "- A copy is sometimes needed so one can change one copy without changing the other. In Python, there are two ways to create copies :\n",
    "\n",
    "\n",
    "- Shallow copy\n",
    "- Deep copy"
   ]
  },
  {
   "cell_type": "markdown",
   "metadata": {},
   "source": [
    "### Copy using = operator"
   ]
  },
  {
   "cell_type": "code",
   "execution_count": 1,
   "metadata": {},
   "outputs": [
    {
     "name": "stdout",
     "output_type": "stream",
     "text": [
      "Old List: [[1, 2, 3], [4, 5, 6], [7, 8, 9]]\n",
      "ID of Old List: 2696764221576\n",
      "New List: [[1, 2, 3], [4, 5, 6], [7, 8, 9]]\n",
      "ID of New List: 2696764221576\n"
     ]
    }
   ],
   "source": [
    "old_list = [[1, 2, 3], [4, 5, 6], [7, 8, 'a']]\n",
    "new_list = old_list\n",
    "\n",
    "new_list[2][2] = 9\n",
    "\n",
    "print('Old List:', old_list)\n",
    "print('ID of Old List:', id(old_list))\n",
    "\n",
    "print('New List:', new_list)\n",
    "print('ID of New List:', id(new_list))"
   ]
  },
  {
   "cell_type": "markdown",
   "metadata": {},
   "source": [
    "As you can see from the output both variables old_list and new_list shares the same id i.e 2696764221576.\n",
    "\n",
    "So, if you want to modify any values in new_list or old_list, the change is visible in both."
   ]
  },
  {
   "cell_type": "code",
   "execution_count": 2,
   "metadata": {},
   "outputs": [],
   "source": [
    "new_list.append([3,4])"
   ]
  },
  {
   "cell_type": "code",
   "execution_count": 3,
   "metadata": {},
   "outputs": [
    {
     "name": "stdout",
     "output_type": "stream",
     "text": [
      "Old List: [[1, 2, 3], [4, 5, 6], [7, 8, 9], [3, 4]]\n",
      "ID of Old List: 2696764221576\n",
      "New List: [[1, 2, 3], [4, 5, 6], [7, 8, 9], [3, 4]]\n",
      "ID of New List: 2696764221576\n"
     ]
    }
   ],
   "source": [
    "print('Old List:', old_list)\n",
    "print('ID of Old List:', id(old_list))\n",
    "\n",
    "print('New List:', new_list)\n",
    "print('ID of New List:', id(new_list))"
   ]
  },
  {
   "cell_type": "code",
   "execution_count": null,
   "metadata": {},
   "outputs": [],
   "source": []
  },
  {
   "cell_type": "markdown",
   "metadata": {},
   "source": [
    "## Shallow Copy"
   ]
  },
  {
   "cell_type": "markdown",
   "metadata": {},
   "source": [
    "A shallow copy creates a new object which stores the reference of the original elements.\n",
    "\n",
    "So, a shallow copy doesn't create a copy of nested objects, instead it just copies the reference of nested objects. This means, a copy process does not recurse or create copies of nested objects itself."
   ]
  },
  {
   "cell_type": "code",
   "execution_count": 5,
   "metadata": {},
   "outputs": [
    {
     "name": "stdout",
     "output_type": "stream",
     "text": [
      "Old list: [[1, 2, 3], [4, 5, 6], [7, 8, 9]]\n",
      "New list: [[1, 2, 3], [4, 5, 6], [7, 8, 9]]\n"
     ]
    }
   ],
   "source": [
    "import copy\n",
    "\n",
    "old_list = [[1, 2, 3], [4, 5, 6], [7, 8, 9]]\n",
    "new_list = copy.copy(old_list)\n",
    "\n",
    "print(\"Old list:\", old_list)\n",
    "print(\"New list:\", new_list)"
   ]
  },
  {
   "cell_type": "code",
   "execution_count": 6,
   "metadata": {},
   "outputs": [
    {
     "name": "stdout",
     "output_type": "stream",
     "text": [
      "Old list: [[1, 2, 3], [4, 5, 6], [7, 8, 9], [4, 4, 4]]\n",
      "New list: [[1, 2, 3], [4, 5, 6], [7, 8, 9]]\n"
     ]
    }
   ],
   "source": [
    "old_list.append([4, 4, 4])\n",
    "\n",
    "print(\"Old list:\", old_list)\n",
    "print(\"New list:\", new_list)"
   ]
  },
  {
   "cell_type": "code",
   "execution_count": null,
   "metadata": {},
   "outputs": [],
   "source": []
  },
  {
   "cell_type": "markdown",
   "metadata": {},
   "source": [
    "## Deep Copy"
   ]
  },
  {
   "cell_type": "markdown",
   "metadata": {},
   "source": [
    "A deep copy creates a new object and recursively adds the copies of nested objects present in the original elements.\n",
    "\n",
    "Let’s continue with example 2. However, we are going to create deep copy using deepcopy() function present in copy module. The deep copy creates independent copy of original object and all its nested objects."
   ]
  },
  {
   "cell_type": "code",
   "execution_count": 7,
   "metadata": {},
   "outputs": [
    {
     "name": "stdout",
     "output_type": "stream",
     "text": [
      "Old list: [[1, 1, 1], [2, 2, 2], [3, 3, 3]]\n",
      "New list: [[1, 1, 1], [2, 2, 2], [3, 3, 3]]\n"
     ]
    }
   ],
   "source": [
    "import copy\n",
    "\n",
    "old_list = [[1, 1, 1], [2, 2, 2], [3, 3, 3]]\n",
    "new_list = copy.deepcopy(old_list)\n",
    "\n",
    "print(\"Old list:\", old_list)\n",
    "print(\"New list:\", new_list)"
   ]
  },
  {
   "cell_type": "markdown",
   "metadata": {},
   "source": [
    "In the above program, we use deepcopy() function to create copy which looks similar.\n",
    "\n",
    "However, if you make changes to any nested objects in original object old_list, you’ll see no changes to the copy new_list."
   ]
  },
  {
   "cell_type": "code",
   "execution_count": 9,
   "metadata": {},
   "outputs": [
    {
     "name": "stdout",
     "output_type": "stream",
     "text": [
      "Old list: [[1, 1, 1], ['BB', 2, 2], [3, 3, 3]]\n",
      "New list: [[1, 1, 1], [2, 2, 2], [3, 3, 3]]\n"
     ]
    }
   ],
   "source": [
    "old_list = [[1, 1, 1], [2, 2, 2], [3, 3, 3]]\n",
    "new_list = copy.deepcopy(old_list)\n",
    "\n",
    "old_list[1][0] = 'BB'\n",
    "\n",
    "print(\"Old list:\", old_list)\n",
    "print(\"New list:\", new_list)"
   ]
  },
  {
   "cell_type": "markdown",
   "metadata": {},
   "source": [
    "In the above program, when we assign a new value to old_list, we can see only the old_list is modified. This means, both the old_list and the new_list are independent. This is because the old_list was recursively copied, which is true for all its nested objects."
   ]
  },
  {
   "cell_type": "code",
   "execution_count": null,
   "metadata": {},
   "outputs": [],
   "source": []
  },
  {
   "cell_type": "code",
   "execution_count": null,
   "metadata": {},
   "outputs": [],
   "source": []
  },
  {
   "cell_type": "code",
   "execution_count": null,
   "metadata": {},
   "outputs": [],
   "source": []
  },
  {
   "cell_type": "code",
   "execution_count": null,
   "metadata": {},
   "outputs": [],
   "source": []
  }
 ],
 "metadata": {
  "kernelspec": {
   "display_name": "Python 3",
   "language": "python",
   "name": "python3"
  },
  "language_info": {
   "codemirror_mode": {
    "name": "ipython",
    "version": 3
   },
   "file_extension": ".py",
   "mimetype": "text/x-python",
   "name": "python",
   "nbconvert_exporter": "python",
   "pygments_lexer": "ipython3",
   "version": "3.6.6"
  }
 },
 "nbformat": 4,
 "nbformat_minor": 2
}

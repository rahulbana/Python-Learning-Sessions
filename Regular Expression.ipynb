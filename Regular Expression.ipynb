{
 "cells": [
  {
   "cell_type": "markdown",
   "metadata": {},
   "source": [
    "# Regular Expression\n",
    "\n",
    "- A Regular Expression (RegEx) is a sequence of characters that defines a search pattern. \n",
    "\n",
    "\n",
    "<img src = \"https://miro.medium.com/max/4000/0*LXBrPhMAWeoDpO8c\" />"
   ]
  },
  {
   "cell_type": "markdown",
   "metadata": {},
   "source": [
    "### Pattern info"
   ]
  },
  {
   "cell_type": "markdown",
   "metadata": {},
   "source": [
    "- **\\d**    - for single length number     # example 1\n",
    "- **\\d+**   - for multiple length number   # example 234, 45\n",
    "- **\\w**    - for single length word/digit\n",
    "- **\\w+**   - for multiple length words/diit\n",
    "- **[a-z]** - for a-z chars\n",
    "- **[0-9]** - for 0-9 numbers\n",
    "- **^Bu**   - for patterns starts with Bu  # example Bus, Busy  \n",
    "- **$le**   - for patterns ends with cle   # example Uncle\n",
    "- **.**     - A period matches any single character (except newline '\\n')\n",
    "- **[^ap]** - for pattern doesn't start with ap\n",
    "- *****     - The star symbol * matches zero or more occurrences of the pattern left to it.\n",
    "- **+**     - The plus symbol + matches one or more occurrences of the pattern left to it.\n",
    "- **?**     - The question mark symbol ? matches zero or one occurrence of the pattern left to it.\n",
    "- **{}**    - Consider this code: {n,m}. This means at least n, and at most m repetitions of the pattern left to it.\n",
    "- **|**     - Vertical bar | is used for alternation (or operator).\n",
    "- **()**    - Parentheses () is used to group sub-patterns. For example, (a|b|c)xz match any string that matches either a or b or c followed by xz\n"
   ]
  },
  {
   "cell_type": "code",
   "execution_count": null,
   "metadata": {},
   "outputs": [],
   "source": []
  },
  {
   "cell_type": "code",
   "execution_count": null,
   "metadata": {},
   "outputs": [],
   "source": []
  },
  {
   "cell_type": "code",
   "execution_count": null,
   "metadata": {},
   "outputs": [],
   "source": []
  },
  {
   "cell_type": "code",
   "execution_count": 1,
   "metadata": {},
   "outputs": [],
   "source": [
    "import re"
   ]
  },
  {
   "cell_type": "code",
   "execution_count": 11,
   "metadata": {},
   "outputs": [],
   "source": [
    "txt = \"currency is $567 and $6\""
   ]
  },
  {
   "cell_type": "markdown",
   "metadata": {},
   "source": [
    "### Let's suppose we need to find numbers in a string"
   ]
  },
  {
   "cell_type": "code",
   "execution_count": 19,
   "metadata": {},
   "outputs": [],
   "source": [
    "match = re.findall('\\d+', txt)"
   ]
  },
  {
   "cell_type": "code",
   "execution_count": 20,
   "metadata": {},
   "outputs": [
    {
     "name": "stdout",
     "output_type": "stream",
     "text": [
      "['567', '6']\n"
     ]
    }
   ],
   "source": [
    "if match:\n",
    "    print(match)\n",
    "else:\n",
    "    print(\"no mtach found\")"
   ]
  },
  {
   "cell_type": "code",
   "execution_count": 23,
   "metadata": {},
   "outputs": [
    {
     "data": {
      "text/plain": [
       "'currency is $ and $'"
      ]
     },
     "execution_count": 23,
     "metadata": {},
     "output_type": "execute_result"
    }
   ],
   "source": [
    "re.sub(\"\\d+\", \"\", txt)"
   ]
  },
  {
   "cell_type": "code",
   "execution_count": 25,
   "metadata": {},
   "outputs": [
    {
     "data": {
      "text/plain": [
       "['currency', 'is', '567', 'and', '6']"
      ]
     },
     "execution_count": 25,
     "metadata": {},
     "output_type": "execute_result"
    }
   ],
   "source": [
    "re.findall('\\w+', txt)"
   ]
  },
  {
   "cell_type": "code",
   "execution_count": null,
   "metadata": {},
   "outputs": [],
   "source": []
  },
  {
   "cell_type": "code",
   "execution_count": 37,
   "metadata": {},
   "outputs": [],
   "source": [
    "re.search(\"^Dog\", \"Domy\")"
   ]
  },
  {
   "cell_type": "code",
   "execution_count": null,
   "metadata": {},
   "outputs": [],
   "source": []
  }
 ],
 "metadata": {
  "kernelspec": {
   "display_name": "Python 3",
   "language": "python",
   "name": "python3"
  },
  "language_info": {
   "codemirror_mode": {
    "name": "ipython",
    "version": 3
   },
   "file_extension": ".py",
   "mimetype": "text/x-python",
   "name": "python",
   "nbconvert_exporter": "python",
   "pygments_lexer": "ipython3",
   "version": "3.6.6"
  }
 },
 "nbformat": 4,
 "nbformat_minor": 2
}
